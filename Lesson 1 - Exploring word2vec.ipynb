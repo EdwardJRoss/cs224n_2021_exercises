{
 "cells": [
  {
   "cell_type": "markdown",
   "id": "c07e1897",
   "metadata": {},
   "source": [
    "Gensim has [detailed documentation on word2vec](https://radimrehurek.com/gensim/auto_examples/tutorials/run_word2vec.html)"
   ]
  },
  {
   "cell_type": "code",
   "execution_count": 1,
   "id": "5ed477ac",
   "metadata": {},
   "outputs": [],
   "source": [
    "import gensim\n",
    "import numpy as np"
   ]
  },
  {
   "cell_type": "markdown",
   "id": "809b90b0",
   "metadata": {},
   "source": [
    "# Downloading the original word2vec on Google News\n",
    "\n",
    "It's about 2GB!"
   ]
  },
  {
   "cell_type": "code",
   "execution_count": 2,
   "id": "ceebfac1",
   "metadata": {},
   "outputs": [],
   "source": [
    "import gensim.downloader as api\n",
    "wv = api.load('word2vec-google-news-300')"
   ]
  },
  {
   "cell_type": "markdown",
   "id": "8a0c61d2",
   "metadata": {},
   "source": [
    "## Retrieving Vectors"
   ]
  },
  {
   "cell_type": "markdown",
   "id": "2cce1ff0",
   "metadata": {},
   "source": [
    "We can lookup an item directly"
   ]
  },
  {
   "cell_type": "code",
   "execution_count": 3,
   "id": "95a87e4f",
   "metadata": {},
   "outputs": [
    {
     "data": {
      "text/plain": [
       "(numpy.ndarray, (300,))"
      ]
     },
     "execution_count": 3,
     "metadata": {},
     "output_type": "execute_result"
    }
   ],
   "source": [
    "wv_doctor = wv['doctor']\n",
    "type(wv_doctor), wv_doctor.shape"
   ]
  },
  {
   "cell_type": "markdown",
   "id": "d473b71d",
   "metadata": {},
   "source": [
    "We can also get it's index"
   ]
  },
  {
   "cell_type": "code",
   "execution_count": 4,
   "id": "aa884855",
   "metadata": {},
   "outputs": [
    {
     "data": {
      "text/plain": [
       "2447"
      ]
     },
     "execution_count": 4,
     "metadata": {},
     "output_type": "execute_result"
    }
   ],
   "source": [
    "idx_doctor = wv.key_to_index['doctor']\n",
    "idx_doctor"
   ]
  },
  {
   "cell_type": "markdown",
   "id": "4b99275a",
   "metadata": {},
   "source": [
    "And look it up by index"
   ]
  },
  {
   "cell_type": "code",
   "execution_count": 5,
   "id": "6df281ae",
   "metadata": {},
   "outputs": [],
   "source": [
    "np.testing.assert_allclose(wv[idx_doctor], wv_doctor)"
   ]
  },
  {
   "cell_type": "markdown",
   "id": "1630f5d0",
   "metadata": {},
   "source": [
    "We can also get from the index back to the word"
   ]
  },
  {
   "cell_type": "code",
   "execution_count": 6,
   "id": "17c74ae0",
   "metadata": {},
   "outputs": [],
   "source": [
    "assert wv.index_to_key[idx_doctor] == 'doctor'"
   ]
  },
  {
   "cell_type": "markdown",
   "id": "6bd5eccb",
   "metadata": {},
   "source": [
    "All the vectors are stored in the `vectors` attribute"
   ]
  },
  {
   "cell_type": "code",
   "execution_count": 7,
   "id": "421ae604",
   "metadata": {},
   "outputs": [
    {
     "data": {
      "text/plain": [
       "(3000000, 300)"
      ]
     },
     "execution_count": 7,
     "metadata": {},
     "output_type": "execute_result"
    }
   ],
   "source": [
    "wv.vectors.shape"
   ]
  },
  {
   "cell_type": "code",
   "execution_count": 8,
   "id": "0e84b9f6",
   "metadata": {},
   "outputs": [],
   "source": [
    "np.testing.assert_allclose(wv.vectors[idx_doctor,:], wv_doctor)"
   ]
  },
  {
   "cell_type": "markdown",
   "id": "669fae9f",
   "metadata": {},
   "source": [
    "If we get something out of the vocabulary we get an error"
   ]
  },
  {
   "cell_type": "code",
   "execution_count": 9,
   "id": "6e11ac59",
   "metadata": {},
   "outputs": [
    {
     "name": "stdout",
     "output_type": "stream",
     "text": [
      "\"Key 'covid' not present\"\n"
     ]
    }
   ],
   "source": [
    "try:\n",
    "    wv['covid']\n",
    "    assert False\n",
    "except KeyError as e:\n",
    "    print(e)"
   ]
  },
  {
   "cell_type": "code",
   "execution_count": 10,
   "id": "b3c7c33c",
   "metadata": {},
   "outputs": [
    {
     "name": "stdout",
     "output_type": "stream",
     "text": [
      "'covid'\n"
     ]
    }
   ],
   "source": [
    "try:\n",
    "    wv.key_to_index['covid']\n",
    "    assert False\n",
    "except KeyError as e:\n",
    "    print(e)"
   ]
  },
  {
   "cell_type": "markdown",
   "id": "b5aad0f9",
   "metadata": {},
   "source": [
    "The size of the vocabulary is easy to retrieve"
   ]
  },
  {
   "cell_type": "code",
   "execution_count": 11,
   "id": "9a2af573",
   "metadata": {},
   "outputs": [
    {
     "data": {
      "text/plain": [
       "3000000"
      ]
     },
     "execution_count": 11,
     "metadata": {},
     "output_type": "execute_result"
    }
   ],
   "source": [
    "vocab_size = len(wv.key_to_index)\n",
    "vocab_size"
   ]
  },
  {
   "cell_type": "markdown",
   "id": "e70dcd2b",
   "metadata": {},
   "source": [
    "## Similarity"
   ]
  },
  {
   "cell_type": "markdown",
   "id": "15e59463",
   "metadata": {},
   "source": [
    "We can get the cosine similarity between words"
   ]
  },
  {
   "cell_type": "markdown",
   "id": "730251d9",
   "metadata": {},
   "source": [
    "Because we have a single representation every word is most similar to itself"
   ]
  },
  {
   "cell_type": "code",
   "execution_count": 12,
   "id": "ec0c4d06",
   "metadata": {},
   "outputs": [
    {
     "data": {
      "text/plain": [
       "1.0"
      ]
     },
     "execution_count": 12,
     "metadata": {},
     "output_type": "execute_result"
    }
   ],
   "source": [
    "wv.similarity('apple', 'apple')"
   ]
  },
  {
   "cell_type": "markdown",
   "id": "a57781da",
   "metadata": {},
   "source": [
    "Similarity is a shortcut"
   ]
  },
  {
   "cell_type": "code",
   "execution_count": 13,
   "id": "1ed7c98f",
   "metadata": {},
   "outputs": [
    {
     "data": {
      "text/plain": [
       "0.64506966"
      ]
     },
     "execution_count": 13,
     "metadata": {},
     "output_type": "execute_result"
    }
   ],
   "source": [
    "wv.similarity('apple', 'pear')"
   ]
  },
  {
   "cell_type": "code",
   "execution_count": 14,
   "id": "3c947a45",
   "metadata": {},
   "outputs": [],
   "source": [
    "def l2_norm(v):\n",
    "    return np.sqrt((v**2).sum())\n",
    "\n",
    "def l2_normalise(v):\n",
    "    return v / l2_norm(v)\n",
    "\n",
    "def cosine_distance(v, w):\n",
    "    return l2_normalise(v) @ l2_normalise(w)"
   ]
  },
  {
   "cell_type": "markdown",
   "id": "84c773cb",
   "metadata": {},
   "source": [
    "Tests"
   ]
  },
  {
   "cell_type": "code",
   "execution_count": 15,
   "id": "46de0939",
   "metadata": {},
   "outputs": [],
   "source": [
    "assert l2_norm(np.array([0,1])) == 1.0"
   ]
  },
  {
   "cell_type": "code",
   "execution_count": 16,
   "id": "1a84a247",
   "metadata": {},
   "outputs": [],
   "source": [
    "np.testing.assert_allclose(l2_normalise(np.array([0,1])), np.array([0,1]))"
   ]
  },
  {
   "cell_type": "code",
   "execution_count": 17,
   "id": "aa2714b3",
   "metadata": {},
   "outputs": [],
   "source": [
    "np.testing.assert_almost_equal(l2_norm(np.array([3,4])), 5)"
   ]
  },
  {
   "cell_type": "code",
   "execution_count": 18,
   "id": "ea674b53",
   "metadata": {},
   "outputs": [],
   "source": [
    "np.testing.assert_almost_equal(l2_normalise(np.array([3,4])), np.array([3/5, 4/5]))"
   ]
  },
  {
   "cell_type": "code",
   "execution_count": 19,
   "id": "9f0981e5",
   "metadata": {},
   "outputs": [],
   "source": [
    "np.testing.assert_almost_equal(cosine_distance(np.array([0,1]), np.array([0,1])), 1.)"
   ]
  },
  {
   "cell_type": "code",
   "execution_count": 20,
   "id": "4b69b489",
   "metadata": {},
   "outputs": [],
   "source": [
    "np.testing.assert_almost_equal(cosine_distance(np.array([0,1]), np.array([1,0])), 0.)"
   ]
  },
  {
   "cell_type": "code",
   "execution_count": 21,
   "id": "6aa2c7b1",
   "metadata": {},
   "outputs": [],
   "source": [
    "np.testing.assert_almost_equal(cosine_distance(np.array([0,1]), np.array([3/5,4/5])), 4/5)"
   ]
  },
  {
   "cell_type": "code",
   "execution_count": 22,
   "id": "0afc3245",
   "metadata": {},
   "outputs": [],
   "source": [
    "np.testing.assert_almost_equal(cosine_distance(np.array([0,1]), np.array([3,4])), 4/5)"
   ]
  },
  {
   "cell_type": "markdown",
   "id": "cb383f20",
   "metadata": {},
   "source": [
    "### Examples"
   ]
  },
  {
   "cell_type": "code",
   "execution_count": 23,
   "id": "c05598a3",
   "metadata": {},
   "outputs": [
    {
     "data": {
      "text/plain": [
       "0.5318406"
      ]
     },
     "execution_count": 23,
     "metadata": {},
     "output_type": "execute_result"
    }
   ],
   "source": [
    "wv.similarity('apple', 'banana')"
   ]
  },
  {
   "cell_type": "markdown",
   "id": "c58dba78",
   "metadata": {},
   "source": [
    "This is just the cosine distance"
   ]
  },
  {
   "cell_type": "code",
   "execution_count": 24,
   "id": "9772a523",
   "metadata": {},
   "outputs": [
    {
     "data": {
      "text/plain": [
       "0.53184056"
      ]
     },
     "execution_count": 24,
     "metadata": {},
     "output_type": "execute_result"
    }
   ],
   "source": [
    "cosine_distance(wv['apple'], wv['banana'])"
   ]
  },
  {
   "cell_type": "markdown",
   "id": "9122e18f",
   "metadata": {},
   "source": [
    "Gensim can precompute the norms in `.norms` so we can skip that step"
   ]
  },
  {
   "cell_type": "code",
   "execution_count": 25,
   "id": "3f57d605",
   "metadata": {},
   "outputs": [],
   "source": [
    "wv.fill_norms()"
   ]
  },
  {
   "cell_type": "code",
   "execution_count": 26,
   "id": "9351559d",
   "metadata": {},
   "outputs": [
    {
     "data": {
      "text/plain": [
       "(3000000,)"
      ]
     },
     "execution_count": 26,
     "metadata": {},
     "output_type": "execute_result"
    }
   ],
   "source": [
    "wv.norms.shape"
   ]
  },
  {
   "cell_type": "code",
   "execution_count": 27,
   "id": "207008dd",
   "metadata": {},
   "outputs": [
    {
     "data": {
      "text/plain": [
       "0.53184056"
      ]
     },
     "execution_count": 27,
     "metadata": {},
     "output_type": "execute_result"
    }
   ],
   "source": [
    "idx_apple = wv.key_to_index['apple']\n",
    "idx_banana = wv.key_to_index['banana']\n",
    "np.dot(wv[idx_apple] / wv.norms[idx_apple], wv[idx_banana] / wv.norms[idx_banana])"
   ]
  },
  {
   "cell_type": "markdown",
   "id": "942d8c2c",
   "metadata": {},
   "source": [
    "### Most similar"
   ]
  },
  {
   "cell_type": "code",
   "execution_count": 28,
   "id": "419c87b4",
   "metadata": {},
   "outputs": [
    {
     "name": "stdout",
     "output_type": "stream",
     "text": [
      "CPU times: user 1.45 s, sys: 466 ms, total: 1.92 s\n",
      "Wall time: 243 ms\n"
     ]
    },
    {
     "data": {
      "text/plain": [
       "[('apples', 0.720359742641449),\n",
       " ('pear', 0.6450697183609009),\n",
       " ('fruit', 0.6410146355628967),\n",
       " ('berry', 0.6302295327186584),\n",
       " ('pears', 0.613396167755127)]"
      ]
     },
     "execution_count": 28,
     "metadata": {},
     "output_type": "execute_result"
    }
   ],
   "source": [
    "%%time\n",
    "wv.most_similar(positive=['apple'], topn=5)"
   ]
  },
  {
   "cell_type": "markdown",
   "id": "d00d9ed5",
   "metadata": {},
   "source": [
    "We could do this by brute force"
   ]
  },
  {
   "cell_type": "code",
   "execution_count": 29,
   "id": "11e2f951",
   "metadata": {},
   "outputs": [
    {
     "name": "stdout",
     "output_type": "stream",
     "text": [
      "CPU times: user 1.4 s, sys: 249 ms, total: 1.65 s\n",
      "Wall time: 210 ms\n"
     ]
    },
    {
     "data": {
      "text/plain": [
       "[('apples', 0.72035974),\n",
       " ('pear', 0.6450697),\n",
       " ('fruit', 0.64101464),\n",
       " ('berry', 0.63022953),\n",
       " ('pears', 0.61339617)]"
      ]
     },
     "execution_count": 29,
     "metadata": {},
     "output_type": "execute_result"
    }
   ],
   "source": [
    "%%time\n",
    "positive = 'apple'\n",
    "topn = 5\n",
    "\n",
    "idx_apple = wv.key_to_index[positive]\n",
    "apple_norm_vector = wv[idx_apple] / wv.norms[idx_apple]\n",
    "\n",
    "distances = (wv.vectors @ apple_norm_vector) / (wv.norms)\n",
    "\n",
    "\n",
    "\n",
    "# Simple solution\n",
    "#rank = np.argsort(1-distances)[:topn+1]\n",
    "\n",
    "# This is much faster for small n\n",
    "rank = np.argpartition(1-distances, topn+1)[:topn+1]\n",
    "rank = rank[np.argsort(1-distances[rank])]\n",
    "\n",
    "# We have to do a little bit of fiddling to avoid returning apple itself\n",
    "result = [(wv.index_to_key[idx], distances[idx]) for idx in rank if idx != idx_apple][:topn]\n",
    "\n",
    "result"
   ]
  },
  {
   "cell_type": "markdown",
   "id": "11cd75ad",
   "metadata": {},
   "source": [
    "For a very fast search we could use an approximate nearest neighbours approach, like in [faiss](https://github.com/facebookresearch/faiss), [annoy](https://github.com/spotify/annoy) and [hnswlib](https://github.com/nmslib/hnswlib).\n",
    "\n",
    "You can pass an `indexer` to `wv.most_similar` which likely is a similar idea."
   ]
  },
  {
   "cell_type": "markdown",
   "id": "87442cae",
   "metadata": {},
   "source": [
    "#### Multiple words"
   ]
  },
  {
   "cell_type": "markdown",
   "id": "407f59c7",
   "metadata": {},
   "source": [
    "We can also take multiple words"
   ]
  },
  {
   "cell_type": "code",
   "execution_count": 30,
   "id": "4fad9525",
   "metadata": {},
   "outputs": [
    {
     "name": "stdout",
     "output_type": "stream",
     "text": [
      "CPU times: user 1.3 s, sys: 519 ms, total: 1.82 s\n",
      "Wall time: 231 ms\n"
     ]
    },
    {
     "data": {
      "text/plain": [
       "[('berry', 0.7345511317253113),\n",
       " ('strawberry', 0.7270347476005554),\n",
       " ('pear', 0.7135796546936035),\n",
       " ('pears', 0.7090939879417419),\n",
       " ('blueberry', 0.7078691124916077)]"
      ]
     },
     "execution_count": 30,
     "metadata": {},
     "output_type": "execute_result"
    }
   ],
   "source": [
    "%%time\n",
    "wv.most_similar(positive=['apple', 'rhubarb'], topn=5)"
   ]
  },
  {
   "cell_type": "markdown",
   "id": "b08f44c6",
   "metadata": {},
   "source": [
    "And we get the same result"
   ]
  },
  {
   "cell_type": "code",
   "execution_count": 31,
   "id": "c3af7935",
   "metadata": {},
   "outputs": [
    {
     "name": "stdout",
     "output_type": "stream",
     "text": [
      "CPU times: user 1.39 s, sys: 340 ms, total: 1.73 s\n",
      "Wall time: 220 ms\n"
     ]
    },
    {
     "data": {
      "text/plain": [
       "[('berry', 0.73455113),\n",
       " ('strawberry', 0.72703475),\n",
       " ('pear', 0.71357954),\n",
       " ('pears', 0.709094),\n",
       " ('blueberry', 0.70786905)]"
      ]
     },
     "execution_count": 31,
     "metadata": {},
     "output_type": "execute_result"
    }
   ],
   "source": [
    "%%time\n",
    "positive = ['apple', 'rhubarb']\n",
    "topn = 5\n",
    "\n",
    "total = topn + len(positive)\n",
    "\n",
    "# Calculate the average vector\n",
    "indices = [wv.key_to_index[p] for p in positive]\n",
    "vector = l2_normalise(np.mean((wv[indices].T / wv.norms[indices]), axis=1))\n",
    "\n",
    "distances = (wv.vectors @ vector) / (wv.norms)\n",
    "\n",
    "# Simple solution\n",
    "#rank = np.argsort(1-distances)[:topn+1]\n",
    "\n",
    "# This is much faster for small n\n",
    "rank = np.argpartition(1-distances, topn+1)[:total]\n",
    "rank = rank[np.argsort(1-distances[rank])]\n",
    "\n",
    "# We have to do a little bit of fiddling to avoid returning apple itself\n",
    "result = [(wv.index_to_key[idx], distances[idx]) for idx in rank if idx not in indices][:topn]\n",
    "\n",
    "result"
   ]
  },
  {
   "cell_type": "markdown",
   "id": "3d36d3f3",
   "metadata": {},
   "source": [
    "#### Negatives\n",
    "We can also add negative using a negative weight (-1.0).\n",
    "\n",
    "An apple that's not a fruit is the brand Apple"
   ]
  },
  {
   "cell_type": "code",
   "execution_count": 32,
   "id": "a28feb42",
   "metadata": {},
   "outputs": [
    {
     "name": "stdout",
     "output_type": "stream",
     "text": [
      "CPU times: user 1.36 s, sys: 278 ms, total: 1.64 s\n",
      "Wall time: 209 ms\n"
     ]
    },
    {
     "data": {
      "text/plain": [
       "[('Apple', 0.33312755823135376),\n",
       " ('Appleâ_€_™', 0.3215164244174957),\n",
       " ('Ipod', 0.31791260838508606),\n",
       " ('designer_Jonathan_Ive', 0.31394994258880615),\n",
       " ('ipod', 0.30566027760505676)]"
      ]
     },
     "execution_count": 32,
     "metadata": {},
     "output_type": "execute_result"
    }
   ],
   "source": [
    "%%time\n",
    "wv.most_similar(positive=['apple'], negative=['fruit'], topn=5)"
   ]
  },
  {
   "cell_type": "markdown",
   "id": "061964b4",
   "metadata": {},
   "source": [
    "### Doesn't match"
   ]
  },
  {
   "cell_type": "code",
   "execution_count": 33,
   "id": "271125bf",
   "metadata": {},
   "outputs": [
    {
     "data": {
      "text/plain": [
       "'car'"
      ]
     },
     "execution_count": 33,
     "metadata": {},
     "output_type": "execute_result"
    }
   ],
   "source": [
    "wv.doesnt_match(['fire', 'water', 'land', 'sea', 'air', 'car'])"
   ]
  },
  {
   "cell_type": "markdown",
   "id": "82ceb700",
   "metadata": {},
   "source": [
    "I would naively look for the word furthest from the centre"
   ]
  },
  {
   "cell_type": "code",
   "execution_count": 34,
   "id": "cde16836",
   "metadata": {},
   "outputs": [],
   "source": [
    "words = ['fire', 'water', 'land', 'sea', 'air', 'car']"
   ]
  },
  {
   "cell_type": "code",
   "execution_count": 35,
   "id": "d020d4a0",
   "metadata": {},
   "outputs": [],
   "source": [
    "vectors = [l2_normalise(wv[w]) for w in words]"
   ]
  },
  {
   "cell_type": "code",
   "execution_count": 36,
   "id": "13b20fbe",
   "metadata": {},
   "outputs": [],
   "source": [
    "mean_vector = l2_normalise(np.mean(vectors, axis=0))"
   ]
  },
  {
   "cell_type": "code",
   "execution_count": 37,
   "id": "b09f97c4",
   "metadata": {},
   "outputs": [
    {
     "data": {
      "text/plain": [
       "[0.5159994, 0.70721567, 0.58156997, 0.63775754, 0.6186152, 0.45616907]"
      ]
     },
     "execution_count": 37,
     "metadata": {},
     "output_type": "execute_result"
    }
   ],
   "source": [
    "distances = [cosine_distance(v, mean_vector) for v in vectors]\n",
    "distances"
   ]
  },
  {
   "cell_type": "code",
   "execution_count": 38,
   "id": "a041372e",
   "metadata": {},
   "outputs": [
    {
     "data": {
      "text/plain": [
       "'car'"
      ]
     },
     "execution_count": 38,
     "metadata": {},
     "output_type": "execute_result"
    }
   ],
   "source": [
    "words[np.argmin(distances)]"
   ]
  },
  {
   "cell_type": "markdown",
   "id": "8ece4c6f",
   "metadata": {},
   "source": [
    "Looking at the source this is what it does; it calls `rank_by_centrality`"
   ]
  },
  {
   "cell_type": "markdown",
   "id": "dcf1ae5b",
   "metadata": {},
   "source": [
    "### Analogies"
   ]
  },
  {
   "cell_type": "markdown",
   "id": "6afd92ba",
   "metadata": {},
   "source": [
    "boy is to man as ___ is to girl"
   ]
  },
  {
   "cell_type": "code",
   "execution_count": 39,
   "id": "977e7f87",
   "metadata": {},
   "outputs": [
    {
     "data": {
      "text/plain": [
       "[('woman', 0.8713073134422302),\n",
       " ('teenage_girl', 0.6854888200759888),\n",
       " ('lady', 0.5916110873222351)]"
      ]
     },
     "execution_count": 39,
     "metadata": {},
     "output_type": "execute_result"
    }
   ],
   "source": [
    "wv.most_similar(positive=['man', 'girl'], negative=['boy'], topn=3)"
   ]
  },
  {
   "cell_type": "code",
   "execution_count": 40,
   "id": "fb53c6a2",
   "metadata": {},
   "outputs": [
    {
     "data": {
      "text/plain": [
       "[('dogs', 0.7362095713615417),\n",
       " ('cats', 0.6359845995903015),\n",
       " ('beagle', 0.6304870247840881)]"
      ]
     },
     "execution_count": 40,
     "metadata": {},
     "output_type": "execute_result"
    }
   ],
   "source": [
    "wv.most_similar(positive=['cat', 'dog'], negative=['kitten'], topn=3)"
   ]
  },
  {
   "cell_type": "markdown",
   "id": "9a5d993c",
   "metadata": {},
   "source": [
    "Why only positive / negative weights?\n",
    "\n",
    "Could we look at all the stages between `man` and `boy`?"
   ]
  },
  {
   "cell_type": "code",
   "execution_count": 41,
   "id": "5b6bd22e",
   "metadata": {},
   "outputs": [],
   "source": [
    "start = 'baby'\n",
    "end = 'adult'\n",
    "delta = wv[end] - wv[start]"
   ]
  },
  {
   "cell_type": "code",
   "execution_count": 42,
   "id": "44d9be40",
   "metadata": {},
   "outputs": [
    {
     "data": {
      "text/plain": [
       "['adult', 'Adult']"
      ]
     },
     "execution_count": 42,
     "metadata": {},
     "output_type": "execute_result"
    }
   ],
   "source": [
    "dists = (wv.vectors @ l2_normalise(wv[start] + 1 * delta)) / wv.norms\n",
    "idxs = np.argsort(1-dists)[:2]\n",
    "[wv.index_to_key[i] for i in idxs]"
   ]
  },
  {
   "cell_type": "code",
   "execution_count": 43,
   "id": "2cd58bfc",
   "metadata": {},
   "outputs": [
    {
     "data": {
      "text/plain": [
       "['baby', 'newborn']"
      ]
     },
     "execution_count": 43,
     "metadata": {},
     "output_type": "execute_result"
    }
   ],
   "source": [
    "dists = (wv.vectors @ l2_normalise(wv[start] + 0. * delta)) / wv.norms\n",
    "idxs = np.argsort(1-dists)[:2]\n",
    "[wv.index_to_key[i] for i in idxs]"
   ]
  },
  {
   "cell_type": "code",
   "execution_count": 44,
   "id": "72b472ba",
   "metadata": {},
   "outputs": [
    {
     "data": {
      "text/plain": [
       "['adult', 'infant']"
      ]
     },
     "execution_count": 44,
     "metadata": {},
     "output_type": "execute_result"
    }
   ],
   "source": [
    "dists = (wv.vectors @ l2_normalise(wv[start] + 0.7 * delta)) / wv.norms\n",
    "idxs = np.argsort(1-dists)[:2]\n",
    "[wv.index_to_key[i] for i in idxs]"
   ]
  },
  {
   "cell_type": "markdown",
   "id": "3eb8f2a5",
   "metadata": {},
   "source": [
    "## Evaluation"
   ]
  },
  {
   "cell_type": "code",
   "execution_count": 45,
   "id": "78e74edb",
   "metadata": {},
   "outputs": [
    {
     "name": "stdout",
     "output_type": "stream",
     "text": [
      "CPU times: user 44min 59s, sys: 10min 30s, total: 55min 30s\n",
      "Wall time: 6min 58s\n"
     ]
    }
   ],
   "source": [
    "%%time\n",
    "from gensim.test.utils import datapath\n",
    "score, results = wv.evaluate_word_analogies(datapath('questions-words.txt'))"
   ]
  },
  {
   "cell_type": "code",
   "execution_count": 46,
   "id": "64a40a3f",
   "metadata": {},
   "outputs": [
    {
     "name": "stdout",
     "output_type": "stream",
     "text": [
      "0.7401448525607863\n",
      "capital-common-countries                 421/0506\n",
      "capital-world                            3552/4368\n",
      "currency                                 230/0808\n",
      "city-in-state                            1779/2467\n",
      "family                                   436/0506\n",
      "gram1-adjective-to-adverb                290/0992\n",
      "gram2-opposite                           353/0812\n",
      "gram3-comparative                        1216/1332\n",
      "gram4-superlative                        987/1122\n",
      "gram5-present-participle                 829/1056\n",
      "gram6-nationality-adjective              1442/1599\n",
      "gram7-past-tense                         1020/1560\n",
      "gram8-plural                             1159/1332\n",
      "gram9-plural-verbs                       593/0870\n",
      "Total accuracy                           14307/19330\n"
     ]
    }
   ],
   "source": [
    "print(score)\n",
    "for s in results:\n",
    "    print(f\"{s['section']:40s} {len(s['correct']):02}/{len(s['incorrect']+s['correct']):04}\")"
   ]
  },
  {
   "cell_type": "code",
   "execution_count": 47,
   "id": "1ea80b56",
   "metadata": {},
   "outputs": [
    {
     "data": {
      "text/plain": [
       "((0.6238773466616107, 1.7963237724171284e-39),\n",
       " SpearmanrResult(correlation=0.6589215888009288, pvalue=2.5346056459149263e-45),\n",
       " 0.0)"
      ]
     },
     "execution_count": 47,
     "metadata": {},
     "output_type": "execute_result"
    }
   ],
   "source": [
    "wv.evaluate_word_pairs(datapath('wordsim353.tsv'))"
   ]
  },
  {
   "cell_type": "markdown",
   "id": "3e9b49b0",
   "metadata": {},
   "source": [
    "## Plotting\n",
    "\n",
    "This is taken from the lesson Demo"
   ]
  },
  {
   "cell_type": "code",
   "execution_count": 48,
   "id": "b7f2ebb4",
   "metadata": {},
   "outputs": [],
   "source": [
    "from sklearn.decomposition import PCA\n",
    "import matplotlib.pyplot as plt\n",
    "\n",
    "def display_pca_scatterplot(model, words=None, sample=0):\n",
    "    if words == None:\n",
    "        if sample > 0:\n",
    "            words = np.random.choice(list(model.vocab.keys()), sample)\n",
    "        else:\n",
    "            words = [ word for word in model.vocab ]\n",
    "        \n",
    "    word_vectors = np.array([model[w] for w in words])\n",
    "\n",
    "    twodim = PCA().fit_transform(word_vectors)[:,:2]\n",
    "    \n",
    "    plt.figure(figsize=(6,6))\n",
    "    plt.scatter(twodim[:,0], twodim[:,1], edgecolors='k', c='r')\n",
    "    for word, (x,y) in zip(words, twodim):\n",
    "        plt.text(x+0.05, y+0.05, word)"
   ]
  },
  {
   "cell_type": "code",
   "execution_count": 49,
   "id": "68d1ce70",
   "metadata": {},
   "outputs": [
    {
     "data": {
      "image/png": "[encoded data removed]",
      "text/plain": [
       "<Figure size 432x432 with 1 Axes>"
      ]
     },
     "metadata": {
      "needs_background": "light"
     },
     "output_type": "display_data"
    }
   ],
   "source": [
    "display_pca_scatterplot(wv, words=['coffee', 'tea', 'beer', 'wine', 'brandy', 'rum', 'champagne', 'water',\n",
    "                         'spaghetti', 'borscht', 'hamburger', 'pizza', 'falafel', 'sushi', 'meatballs',\n",
    "                         'dog', 'horse', 'cat', 'monkey', 'parrot', 'koala', 'lizard',\n",
    "                         'frog', 'toad', 'monkey', 'ape', 'kangaroo', 'wombat', 'wolf',\n",
    "                         'france', 'germany', 'hungary', 'australia', 'fiji', 'china',\n",
    "                         'homework', 'assignment', 'problem', 'exam', 'test', 'class',\n",
    "                         'school', 'college', 'university', 'institute'])"
   ]
  },
  {
   "cell_type": "markdown",
   "id": "b5d7c2c7",
   "metadata": {},
   "source": [
    "## Cleanup"
   ]
  },
  {
   "cell_type": "code",
   "execution_count": 50,
   "id": "72c5ab6e",
   "metadata": {},
   "outputs": [],
   "source": [
    "del wv"
   ]
  },
  {
   "cell_type": "markdown",
   "id": "d7a30b24",
   "metadata": {},
   "source": [
    "# Using Glove Vectors\n",
    "\n",
    "\n",
    "Let's represent the information of word vectors in [Glove homepage](https://nlp.stanford.edu/projects/glove/)\n"
   ]
  },
  {
   "cell_type": "code",
   "execution_count": 51,
   "id": "cfd3367a",
   "metadata": {},
   "outputs": [],
   "source": [
    "glove_data_sources = {\n",
    "    '6B': {\n",
    "        'name': 'glove.6B',\n",
    "        'source': 'Wikipedia 2014 + Gigaword 5',\n",
    "        'tokens': 6e9,\n",
    "        'vocab': 400e3,\n",
    "        'cased': False,\n",
    "        'dimensions': [50, 100, 200, 300],\n",
    "        'size_mb': 822,\n",
    "        'url': 'https://nlp.stanford.edu/data/glove.6B.zip'\n",
    "    },\n",
    "    '42B': {\n",
    "        'name': 'glove.42B',\n",
    "        'source': 'Common Crawl',\n",
    "         'tokens': 42e9,\n",
    "         'vocab': 1.9e6,\n",
    "         'cased': False,\n",
    "         'dimensions': [300],\n",
    "         'size_mb': 1750,\n",
    "         'url': 'https://nlp.stanford.edu/data/glove.42B.300d.zip'\n",
    "    },\n",
    "    '840B': {\n",
    "        'name': 'glove.840B',\n",
    "         'source': 'Common Crawl',\n",
    "         'tokens': 42e9,\n",
    "         'vocab': 2.2e6,\n",
    "         'cased': True,\n",
    "         'dimensions': [300],\n",
    "         'size_mb': 2030,\n",
    "         'url': 'https://nlp.stanford.edu/data/glove.840B.300d.zip'\n",
    "    },\n",
    "    'twitter': {\n",
    "        'name': 'glove.twitter.27B',\n",
    "            'source': 'Twitter',\n",
    "         'tokens': 27e9,\n",
    "         'vocab': 1.2e6,\n",
    "         'cased': False,\n",
    "         'dimensions': [25, 50, 100, 200],\n",
    "         'size_mb': 1420,\n",
    "         'url': 'https://nlp.stanford.edu/data/glove.twitter.27B.zip'\n",
    "    },\n",
    "}"
   ]
  },
  {
   "cell_type": "markdown",
   "id": "aad2fde9",
   "metadata": {},
   "source": [
    "Ported from the documentation of gensim.scripts.glove2word2vec "
   ]
  },
  {
   "cell_type": "code",
   "execution_count": 52,
   "id": "e55e9f4b",
   "metadata": {},
   "outputs": [],
   "source": [
    "from tqdm.auto import tqdm\n",
    "\n",
    "class TqdmHook(tqdm):\n",
    "    def update_to(self, b=1, bsize=1, tsize=None):\n",
    "        \"\"\"\n",
    "        b  : int, optional\n",
    "            Number of blocks transferred so far [default: 1].\n",
    "        bsize  : int, optional\n",
    "            Size of each block (in tqdm units) [default: 1].\n",
    "        tsize  : int, optional\n",
    "            Total size (in tqdm units). If [default: None] remains unchanged.\n",
    "        \"\"\"\n",
    "        if tsize is not None:\n",
    "            self.total = tsize\n",
    "        self.update(b * bsize - self.n)  # will also set self.n = b * bsize"
   ]
  },
  {
   "cell_type": "code",
   "execution_count": 53,
   "id": "5c636ac1",
   "metadata": {},
   "outputs": [],
   "source": [
    "from urllib.request import urlretrieve\n",
    "from pathlib import Path\n",
    "\n",
    "\n",
    "DATA = Path('data')\n",
    "DATA.mkdir(exist_ok=True)\n",
    "\n",
    "def fetch(url: str, filename: str=None, directory: Path=DATA, force: bool=False) -> Path:\n",
    "    if filename is None:\n",
    "        filename = url.split('/')[-1]\n",
    "    \n",
    "    dest = directory / filename\n",
    "    if force or not dest.exists():\n",
    "        with TqdmHook(unit = 'B', unit_scale = True, unit_divisor = 1024, miniters = 1, desc = filename) as report:\n",
    "            urlretrieve(url, dest, reporthook=report.update_to)\n",
    "    \n",
    "    return dest"
   ]
  },
  {
   "cell_type": "code",
   "execution_count": 54,
   "id": "28a71084",
   "metadata": {},
   "outputs": [],
   "source": [
    "import logging\n",
    "logger = logging.getLogger()\n",
    "logger.setLevel(logging.INFO)"
   ]
  },
  {
   "cell_type": "markdown",
   "id": "a49c41b6",
   "metadata": {},
   "source": [
    "Load a glove vector, downloading, unzipping and converting as necessary."
   ]
  },
  {
   "cell_type": "code",
   "execution_count": 55,
   "id": "7d0fdd48",
   "metadata": {},
   "outputs": [],
   "source": [
    "from gensim.scripts.glove2word2vec import glove2word2vec\n",
    "from zipfile import ZipFile\n",
    "from gensim.models.keyedvectors import KeyedVectors\n",
    "\n",
    "def load_glove_model(model_name: str, dimension: int, data_dir: Path = DATA, force: bool = False) -> KeyedVectors:\n",
    "    if model_name not in glove_data_sources:\n",
    "        raise ValueError(f'Unknown model {model_name}; expected one of {list(glove_data_sources)}')\n",
    "    metadata = glove_data_sources[model_name]\n",
    "    if dimension not in metadata['dimensions']:\n",
    "        raise ValueError(f'Unknown dimension {dimension}; expected one of {metadata[\"dimensions\"]}')\n",
    "    \n",
    "    \n",
    "    w2v_filename = f\"{metadata['name']}.{dimension}d.w2v\"\n",
    "    w2v_path = data_dir / w2v_filename\n",
    "    \n",
    "    if force or not w2v_path.exists():\n",
    "        logging.info('Fetching zipfile')\n",
    "        zipfile_path = fetch(metadata['url'], directory=data_dir, force=force)\n",
    "        \n",
    "        # Should be function\n",
    "        glove_filename = f\"{metadata['name']}.{dimension}d.txt\"\n",
    "        glove_path = data_dir / glove_filename\n",
    "        if force or not glove_path.exists():\n",
    "            logging.info('Unzipping')\n",
    "            with ZipFile(zipfile_path) as z:\n",
    "                z.extract(glove_filename, data_dir)\n",
    "        \n",
    "        logging.info('Converting to Word2Vec Format')\n",
    "        glove2word2vec(glove_path, w2v_path)\n",
    "    \n",
    "    model = KeyedVectors.load_word2vec_format(w2v_path)\n",
    "    return model"
   ]
  },
  {
   "cell_type": "code",
   "execution_count": 56,
   "id": "e8b28bad",
   "metadata": {},
   "outputs": [
    {
     "name": "stdout",
     "output_type": "stream",
     "text": [
      "CPU times: user 19.5 s, sys: 416 ms, total: 19.9 s\n",
      "Wall time: 19.7 s\n"
     ]
    }
   ],
   "source": [
    "%%time\n",
    "model = load_glove_model('6B', 100)"
   ]
  },
  {
   "cell_type": "code",
   "execution_count": 57,
   "id": "44705dd1",
   "metadata": {},
   "outputs": [],
   "source": [
    "def analogy(model, a, is_to, as_a, topn=3):\n",
    "    return model.most_similar(positive= [as_a, is_to], negative=[a], topn=topn)"
   ]
  },
  {
   "cell_type": "code",
   "execution_count": 58,
   "id": "0c494562",
   "metadata": {},
   "outputs": [
    {
     "data": {
      "text/plain": [
       "[('australian', 0.8923497796058655),\n",
       " ('zealand', 0.8012940883636475),\n",
       " ('british', 0.7840811610221863)]"
      ]
     },
     "execution_count": 58,
     "metadata": {},
     "output_type": "execute_result"
    }
   ],
   "source": [
    "analogy(model, 'japan', 'japanese', 'australia')"
   ]
  },
  {
   "cell_type": "code",
   "execution_count": 59,
   "id": "64914294",
   "metadata": {},
   "outputs": [
    {
     "data": {
      "text/plain": [
       "[('queen', 0.7698540687561035),\n",
       " ('monarch', 0.6843381524085999),\n",
       " ('throne', 0.6755736470222473)]"
      ]
     },
     "execution_count": 59,
     "metadata": {},
     "output_type": "execute_result"
    }
   ],
   "source": [
    "analogy(model, 'man', 'king', 'woman')"
   ]
  },
  {
   "cell_type": "code",
   "execution_count": 60,
   "id": "d01aeb20",
   "metadata": {},
   "outputs": [
    {
     "data": {
      "text/plain": [
       "[('girl', 0.9095936417579651),\n",
       " ('mother', 0.7666921019554138),\n",
       " ('child', 0.7420270442962646)]"
      ]
     },
     "execution_count": 60,
     "metadata": {},
     "output_type": "execute_result"
    }
   ],
   "source": [
    "analogy(model, a='man', is_to='boy', as_a='woman')"
   ]
  },
  {
   "cell_type": "code",
   "execution_count": 61,
   "id": "53d2a819",
   "metadata": {},
   "outputs": [
    {
     "data": {
      "text/plain": [
       "[('jump', 0.6365668773651123),\n",
       " ('skate', 0.5734996199607849),\n",
       " ('diving', 0.5720967054367065)]"
      ]
     },
     "execution_count": 61,
     "metadata": {},
     "output_type": "execute_result"
    }
   ],
   "source": [
    "analogy(model, a='running', is_to='run', as_a='jumping')"
   ]
  },
  {
   "cell_type": "markdown",
   "id": "29168c88",
   "metadata": {},
   "source": [
    "So close"
   ]
  },
  {
   "cell_type": "code",
   "execution_count": 62,
   "id": "614f8ccb",
   "metadata": {},
   "outputs": [
    {
     "data": {
      "text/plain": [
       "[('puppies', 0.6867596507072449),\n",
       " ('kitten', 0.6866797208786011),\n",
       " ('kittens', 0.6383703947067261)]"
      ]
     },
     "execution_count": 62,
     "metadata": {},
     "output_type": "execute_result"
    }
   ],
   "source": [
    "analogy(model, a='dog', is_to='puppy', as_a='cat')"
   ]
  },
  {
   "cell_type": "code",
   "execution_count": 63,
   "id": "4a8782b2",
   "metadata": {},
   "outputs": [
    {
     "data": {
      "text/plain": [
       "[('gelding', 0.6561240553855896),\n",
       " ('filly', 0.6192689538002014),\n",
       " ('horses', 0.6143808364868164)]"
      ]
     },
     "execution_count": 63,
     "metadata": {},
     "output_type": "execute_result"
    }
   ],
   "source": [
    "analogy(model, a='dog', is_to='puppy', as_a='horse')"
   ]
  },
  {
   "cell_type": "code",
   "execution_count": 64,
   "id": "ef0ec3c5",
   "metadata": {},
   "outputs": [
    {
     "data": {
      "text/plain": [
       "[('goats', 0.7177532911300659),\n",
       " ('cows', 0.7116653323173523),\n",
       " ('calves', 0.6669469475746155)]"
      ]
     },
     "execution_count": 64,
     "metadata": {},
     "output_type": "execute_result"
    }
   ],
   "source": [
    "analogy(model, a='dog', is_to='puppy', as_a='sheep')"
   ]
  },
  {
   "cell_type": "markdown",
   "id": "52d96a3a",
   "metadata": {},
   "source": [
    "Plurals!"
   ]
  },
  {
   "cell_type": "code",
   "execution_count": 65,
   "id": "40da235f",
   "metadata": {},
   "outputs": [
    {
     "data": {
      "text/plain": [
       "[('cats', 0.870152473449707),\n",
       " ('animals', 0.7340957522392273),\n",
       " ('rabbits', 0.7251664996147156)]"
      ]
     },
     "execution_count": 65,
     "metadata": {},
     "output_type": "execute_result"
    }
   ],
   "source": [
    "analogy(model, a='dog', is_to='dogs', as_a='cat')"
   ]
  },
  {
   "cell_type": "code",
   "execution_count": 66,
   "id": "f4e432de",
   "metadata": {},
   "outputs": [
    {
     "data": {
      "text/plain": [
       "[('mice', 0.7820927500724792),\n",
       " ('rabbits', 0.7002912163734436),\n",
       " ('rodents', 0.6620580554008484)]"
      ]
     },
     "execution_count": 66,
     "metadata": {},
     "output_type": "execute_result"
    }
   ],
   "source": [
    "analogy(model, a='dog', is_to='dogs', as_a='mouse')"
   ]
  },
  {
   "cell_type": "code",
   "execution_count": 67,
   "id": "2db07bea",
   "metadata": {},
   "outputs": [
    {
     "data": {
      "text/plain": [
       "[('dogs', 0.8047526478767395),\n",
       " ('rats', 0.7037932872772217),\n",
       " ('cats', 0.6896343231201172)]"
      ]
     },
     "execution_count": 67,
     "metadata": {},
     "output_type": "execute_result"
    }
   ],
   "source": [
    "analogy(model, a='mouse', is_to='mice', as_a='dog')"
   ]
  },
  {
   "cell_type": "code",
   "execution_count": 68,
   "id": "a878082d",
   "metadata": {},
   "outputs": [
    {
     "data": {
      "text/plain": [
       "[('geese', 0.6569846868515015),\n",
       " ('turkeys', 0.6174508929252625),\n",
       " ('elk', 0.5829428434371948)]"
      ]
     },
     "execution_count": 68,
     "metadata": {},
     "output_type": "execute_result"
    }
   ],
   "source": [
    "analogy(model, a='dog', is_to='dogs', as_a='goose')"
   ]
  },
  {
   "cell_type": "code",
   "execution_count": 69,
   "id": "078f49c4",
   "metadata": {},
   "outputs": [
    {
     "data": {
      "text/plain": [
       "[('eaten', 0.7870859503746033),\n",
       " ('eat', 0.7161226272583008),\n",
       " ('eats', 0.7083176970481873)]"
      ]
     },
     "execution_count": 69,
     "metadata": {},
     "output_type": "execute_result"
    }
   ],
   "source": [
    "analogy(model, a='saw', is_to='seen', as_a='ate')"
   ]
  },
  {
   "cell_type": "code",
   "execution_count": 70,
   "id": "38f85741",
   "metadata": {},
   "outputs": [
    {
     "data": {
      "text/plain": [
       "[('inuit', 0.7059606313705444),\n",
       " ('métis', 0.6332137584686279),\n",
       " ('indigenous', 0.5787938237190247)]"
      ]
     },
     "execution_count": 70,
     "metadata": {},
     "output_type": "execute_result"
    }
   ],
   "source": [
    "analogy(model, a='australia', is_to='aboriginal', as_a='canada')"
   ]
  },
  {
   "cell_type": "markdown",
   "id": "7c60e67e",
   "metadata": {},
   "source": [
    "By construction it won't work on self-plurals..."
   ]
  },
  {
   "cell_type": "code",
   "execution_count": 71,
   "id": "0050ae25",
   "metadata": {},
   "outputs": [
    {
     "data": {
      "text/plain": [
       "[('birds', 0.7144117951393127),\n",
       " ('animals', 0.7041971683502197),\n",
       " ('shrimp', 0.669943630695343)]"
      ]
     },
     "execution_count": 71,
     "metadata": {},
     "output_type": "execute_result"
    }
   ],
   "source": [
    "analogy(model, a='dog', is_to='dogs', as_a='fish')"
   ]
  },
  {
   "cell_type": "markdown",
   "id": "da65107c",
   "metadata": {},
   "source": [
    "This is pretty clever"
   ]
  },
  {
   "cell_type": "code",
   "execution_count": 72,
   "id": "f7cf2548",
   "metadata": {},
   "outputs": [
    {
     "data": {
      "text/plain": [
       "[('dutch', 0.8915837407112122),\n",
       " ('belgian', 0.7331493496894836),\n",
       " ('swedish', 0.7199690937995911)]"
      ]
     },
     "execution_count": 72,
     "metadata": {},
     "output_type": "execute_result"
    }
   ],
   "source": [
    "analogy(model, a='france', is_to='french', as_a='netherlands')"
   ]
  },
  {
   "cell_type": "markdown",
   "id": "f9df58ae",
   "metadata": {},
   "source": [
    "Poor has a couple of meanings; I was thinking of poverty, but the analogy here is good."
   ]
  },
  {
   "cell_type": "code",
   "execution_count": 73,
   "id": "afbb3ea9",
   "metadata": {},
   "outputs": [
    {
     "data": {
      "text/plain": [
       "[('better', 0.7286986708641052),\n",
       " ('excellent', 0.7133066058158875),\n",
       " ('improve', 0.6775092482566833)]"
      ]
     },
     "execution_count": 73,
     "metadata": {},
     "output_type": "execute_result"
    }
   ],
   "source": [
    "analogy(model, a='bad', is_to='good', as_a='poor')"
   ]
  },
  {
   "cell_type": "code",
   "execution_count": 74,
   "id": "9979a89e",
   "metadata": {},
   "outputs": [
    {
     "data": {
      "text/plain": [
       "[('prosperity', 0.6790876984596252),\n",
       " ('sustainable', 0.6570262312889099),\n",
       " ('literacy', 0.6219431161880493)]"
      ]
     },
     "execution_count": 74,
     "metadata": {},
     "output_type": "execute_result"
    }
   ],
   "source": [
    "analogy(model, a='bad', is_to='good', as_a='poverty')"
   ]
  },
  {
   "cell_type": "code",
   "execution_count": 75,
   "id": "89e10b0a",
   "metadata": {},
   "outputs": [
    {
     "data": {
      "text/plain": [
       "[('stupid', 0.6949706077575684),\n",
       " ('dumb', 0.661355197429657),\n",
       " ('nasty', 0.6165375113487244)]"
      ]
     },
     "execution_count": 75,
     "metadata": {},
     "output_type": "execute_result"
    }
   ],
   "source": [
    "analogy(model, a='good', is_to='bad', as_a='smart')"
   ]
  },
  {
   "cell_type": "markdown",
   "id": "d405f56d",
   "metadata": {},
   "source": [
    "Curious"
   ]
  },
  {
   "cell_type": "code",
   "execution_count": 76,
   "id": "d7584b82",
   "metadata": {},
   "outputs": [
    {
     "data": {
      "text/plain": [
       "[('gorgeous', 0.7169793248176575),\n",
       " ('lovely', 0.6776781678199768),\n",
       " ('ugly', 0.6571363806724548)]"
      ]
     },
     "execution_count": 76,
     "metadata": {},
     "output_type": "execute_result"
    }
   ],
   "source": [
    "analogy(model, a='good', is_to='bad', as_a='beautiful')"
   ]
  },
  {
   "cell_type": "code",
   "execution_count": 77,
   "id": "2538cc64",
   "metadata": {},
   "outputs": [
    {
     "data": {
      "text/plain": [
       "[('ugly', 0.7084827423095703),\n",
       " ('worse', 0.706501305103302),\n",
       " ('crazy', 0.7044617533683777)]"
      ]
     },
     "execution_count": 77,
     "metadata": {},
     "output_type": "execute_result"
    }
   ],
   "source": [
    "analogy(model, a='good', is_to='bad', as_a='pretty')"
   ]
  },
  {
   "cell_type": "markdown",
   "id": "3350b42e",
   "metadata": {},
   "source": [
    "Can't really do collective nouns?\n",
    "There's a lot of linguistic ambiguity."
   ]
  },
  {
   "cell_type": "code",
   "execution_count": 78,
   "id": "64ea2f1c",
   "metadata": {},
   "outputs": [
    {
     "data": {
      "text/plain": [
       "[('elementary', 0.5957281589508057),\n",
       " ('morehouse', 0.5584497451782227),\n",
       " ('lawrenceville', 0.529654324054718)]"
      ]
     },
     "execution_count": 78,
     "metadata": {},
     "output_type": "execute_result"
    }
   ],
   "source": [
    "analogy(model, a='fish', is_to='school', as_a='geese')"
   ]
  },
  {
   "cell_type": "code",
   "execution_count": 79,
   "id": "e8ed849f",
   "metadata": {},
   "outputs": [
    {
     "data": {
      "text/plain": [
       "[('seafood', 0.571368396282196),\n",
       " ('eat', 0.5494017004966736),\n",
       " ('shrimp', 0.540702223777771)]"
      ]
     },
     "execution_count": 79,
     "metadata": {},
     "output_type": "execute_result"
    }
   ],
   "source": [
    "analogy(model, a='birds', is_to='flock', as_a='fish')"
   ]
  },
  {
   "cell_type": "code",
   "execution_count": 80,
   "id": "917a28a2",
   "metadata": {},
   "outputs": [
    {
     "data": {
      "text/plain": [
       "[('mainland', 0.6377466320991516),\n",
       " ('hong', 0.6355780959129333),\n",
       " ('kong', 0.6324601173400879)]"
      ]
     },
     "execution_count": 80,
     "metadata": {},
     "output_type": "execute_result"
    }
   ],
   "source": [
    "analogy(model, a='ant', is_to='colony', as_a='bird')"
   ]
  },
  {
   "cell_type": "code",
   "execution_count": 81,
   "id": "b699e65a",
   "metadata": {},
   "outputs": [
    {
     "data": {
      "text/plain": [
       "[('maoist', 0.5558085441589355),\n",
       " ('fnl', 0.5512718558311462),\n",
       " ('lra', 0.5276084542274475)]"
      ]
     },
     "execution_count": 81,
     "metadata": {},
     "output_type": "execute_result"
    }
   ],
   "source": [
    "analogy(model, a='whale', is_to='gam', as_a='bird')"
   ]
  },
  {
   "cell_type": "markdown",
   "id": "df3689be",
   "metadata": {},
   "source": [
    "## Larger model - Trained on Common Crawl"
   ]
  },
  {
   "cell_type": "code",
   "execution_count": 82,
   "id": "c0cee64c",
   "metadata": {},
   "outputs": [
    {
     "name": "stdout",
     "output_type": "stream",
     "text": [
      "CPU times: user 5min 47s, sys: 7.76 s, total: 5min 55s\n",
      "Wall time: 5min 52s\n"
     ]
    }
   ],
   "source": [
    "%%time\n",
    "model = load_glove_model('42B', 300)"
   ]
  },
  {
   "cell_type": "code",
   "execution_count": 83,
   "id": "e148e09b",
   "metadata": {},
   "outputs": [
    {
     "data": {
      "text/plain": [
       "[('cats', 0.7431511282920837),\n",
       " ('dogs', 0.6465448141098022),\n",
       " ('kittens', 0.5902024507522583)]"
      ]
     },
     "execution_count": 83,
     "metadata": {},
     "output_type": "execute_result"
    }
   ],
   "source": [
    "analogy(model, a='mouse', is_to='mice', as_a='cat')"
   ]
  },
  {
   "cell_type": "code",
   "execution_count": 84,
   "id": "2c9c0392",
   "metadata": {},
   "outputs": [
    {
     "data": {
      "text/plain": [
       "[('cats', 0.9028548002243042),\n",
       " ('kittens', 0.6927394270896912),\n",
       " ('pets', 0.6669827103614807)]"
      ]
     },
     "execution_count": 84,
     "metadata": {},
     "output_type": "execute_result"
    }
   ],
   "source": [
    "analogy(model, a='dog', is_to='dogs', as_a='cat')"
   ]
  },
  {
   "cell_type": "markdown",
   "id": "bac60af2",
   "metadata": {},
   "source": [
    "Or age"
   ]
  },
  {
   "cell_type": "code",
   "execution_count": 85,
   "id": "f128f934",
   "metadata": {},
   "outputs": [
    {
     "data": {
      "text/plain": [
       "[('girl', 0.8489392995834351),\n",
       " ('girls', 0.7242658734321594),\n",
       " ('daughter', 0.6717755198478699)]"
      ]
     },
     "execution_count": 85,
     "metadata": {},
     "output_type": "execute_result"
    }
   ],
   "source": [
    "analogy(model, a='man', is_to='boy', as_a='woman')"
   ]
  },
  {
   "cell_type": "code",
   "execution_count": 86,
   "id": "e1a631ed",
   "metadata": {},
   "outputs": [
    {
     "data": {
      "text/plain": [
       "[('jumping', 0.5270168781280518),\n",
       " ('jumps', 0.5087668895721436),\n",
       " ('runners', 0.4657614827156067)]"
      ]
     },
     "execution_count": 86,
     "metadata": {},
     "output_type": "execute_result"
    }
   ],
   "source": [
    "analogy(model, a='run', is_to='runner', as_a='jump')"
   ]
  },
  {
   "cell_type": "code",
   "execution_count": 87,
   "id": "fe154196",
   "metadata": {},
   "outputs": [
    {
     "data": {
      "text/plain": [
       "[('munich', 0.6608784198760986),\n",
       " ('berlin', 0.6464670896530151),\n",
       " ('stuttgart', 0.6257511973381042)]"
      ]
     },
     "execution_count": 87,
     "metadata": {},
     "output_type": "execute_result"
    }
   ],
   "source": [
    "analogy(model, a='australia', is_to='canberra', as_a='germany')"
   ]
  },
  {
   "cell_type": "code",
   "execution_count": 88,
   "id": "2aeb5cd2",
   "metadata": {},
   "outputs": [
    {
     "data": {
      "text/plain": [
       "[('beers', 0.552153468132019),\n",
       " ('french', 0.527330219745636),\n",
       " ('wine', 0.4995618164539337)]"
      ]
     },
     "execution_count": 88,
     "metadata": {},
     "output_type": "execute_result"
    }
   ],
   "source": [
    "analogy(model, a='australia', is_to='beer', as_a='france')"
   ]
  }
 ],
 "metadata": {
  "kernelspec": {
   "display_name": "Python 3 (ipykernel)",
   "language": "python",
   "name": "python3"
  },
  "language_info": {
   "codemirror_mode": {
    "name": "ipython",
    "version": 3
   },
   "file_extension": ".py",
   "mimetype": "text/x-python",
   "name": "python",
   "nbconvert_exporter": "python",
   "pygments_lexer": "ipython3",
   "version": "3.8.10"
  },
  "toc": {
   "base_numbering": 1,
   "nav_menu": {},
   "number_sections": true,
   "sideBar": true,
   "skip_h1_title": false,
   "title_cell": "Table of Contents",
   "title_sidebar": "Contents",
   "toc_cell": false,
   "toc_position": {},
   "toc_section_display": true,
   "toc_window_display": true
  }
 },
 "nbformat": 4,
 "nbformat_minor": 5
}
